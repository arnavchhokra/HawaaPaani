{
 "cells": [
  {
   "cell_type": "code",
   "execution_count": 3,
   "metadata": {},
   "outputs": [],
   "source": [
    "import pandas as pd\n",
    "import numpy as np\n",
    "import matplotlib.pyplot as plt"
   ]
  },
  {
   "cell_type": "code",
   "execution_count": 4,
   "metadata": {},
   "outputs": [],
   "source": [
    "df = pd.read_csv('D:/Hackathons/SIH/air_quality/air-quality-india.csv')"
   ]
  },
  {
   "cell_type": "code",
   "execution_count": 5,
   "metadata": {},
   "outputs": [
    {
     "data": {
      "text/html": [
       "<div>\n",
       "<style scoped>\n",
       "    .dataframe tbody tr th:only-of-type {\n",
       "        vertical-align: middle;\n",
       "    }\n",
       "\n",
       "    .dataframe tbody tr th {\n",
       "        vertical-align: top;\n",
       "    }\n",
       "\n",
       "    .dataframe thead th {\n",
       "        text-align: right;\n",
       "    }\n",
       "</style>\n",
       "<table border=\"1\" class=\"dataframe\">\n",
       "  <thead>\n",
       "    <tr style=\"text-align: right;\">\n",
       "      <th></th>\n",
       "      <th>Timestamp</th>\n",
       "      <th>Year</th>\n",
       "      <th>Month</th>\n",
       "      <th>Day</th>\n",
       "      <th>Hour</th>\n",
       "      <th>PM2.5</th>\n",
       "    </tr>\n",
       "  </thead>\n",
       "  <tbody>\n",
       "    <tr>\n",
       "      <th>0</th>\n",
       "      <td>2017-11-07 12:00:00</td>\n",
       "      <td>2017</td>\n",
       "      <td>11</td>\n",
       "      <td>7</td>\n",
       "      <td>12</td>\n",
       "      <td>64.51</td>\n",
       "    </tr>\n",
       "    <tr>\n",
       "      <th>1</th>\n",
       "      <td>2017-11-07 13:00:00</td>\n",
       "      <td>2017</td>\n",
       "      <td>11</td>\n",
       "      <td>7</td>\n",
       "      <td>13</td>\n",
       "      <td>69.95</td>\n",
       "    </tr>\n",
       "    <tr>\n",
       "      <th>2</th>\n",
       "      <td>2017-11-07 14:00:00</td>\n",
       "      <td>2017</td>\n",
       "      <td>11</td>\n",
       "      <td>7</td>\n",
       "      <td>14</td>\n",
       "      <td>92.79</td>\n",
       "    </tr>\n",
       "    <tr>\n",
       "      <th>3</th>\n",
       "      <td>2017-11-07 15:00:00</td>\n",
       "      <td>2017</td>\n",
       "      <td>11</td>\n",
       "      <td>7</td>\n",
       "      <td>15</td>\n",
       "      <td>109.66</td>\n",
       "    </tr>\n",
       "    <tr>\n",
       "      <th>4</th>\n",
       "      <td>2017-11-07 16:00:00</td>\n",
       "      <td>2017</td>\n",
       "      <td>11</td>\n",
       "      <td>7</td>\n",
       "      <td>16</td>\n",
       "      <td>116.50</td>\n",
       "    </tr>\n",
       "  </tbody>\n",
       "</table>\n",
       "</div>"
      ],
      "text/plain": [
       "             Timestamp  Year  Month  Day  Hour   PM2.5\n",
       "0  2017-11-07 12:00:00  2017     11    7    12   64.51\n",
       "1  2017-11-07 13:00:00  2017     11    7    13   69.95\n",
       "2  2017-11-07 14:00:00  2017     11    7    14   92.79\n",
       "3  2017-11-07 15:00:00  2017     11    7    15  109.66\n",
       "4  2017-11-07 16:00:00  2017     11    7    16  116.50"
      ]
     },
     "execution_count": 5,
     "metadata": {},
     "output_type": "execute_result"
    }
   ],
   "source": [
    "df.head()"
   ]
  },
  {
   "cell_type": "code",
   "execution_count": 8,
   "metadata": {},
   "outputs": [
    {
     "name": "stdout",
     "output_type": "stream",
     "text": [
      "Timestamp\n",
      "2017    95.064160\n",
      "2018    54.468449\n",
      "2019    49.511273\n",
      "2020    42.386302\n",
      "2021    44.850633\n",
      "2022    50.025717\n",
      "Name: PM2.5, dtype: float64\n"
     ]
    }
   ],
   "source": [
    "# Convert the 'Timestamp' column to a datetime object\n",
    "df['Timestamp'] = pd.to_datetime(df['Timestamp'])\n",
    "\n",
    "# Group the data by year and calculate the average AQI for each year\n",
    "yearly_average_aqi = df.groupby(df['Timestamp'].dt.year)['PM2.5'].mean()\n",
    "\n",
    "# Display the yearly average AQI\n",
    "print(yearly_average_aqi)"
   ]
  },
  {
   "cell_type": "code",
   "execution_count": 9,
   "metadata": {},
   "outputs": [
    {
     "name": "stdout",
     "output_type": "stream",
     "text": [
      "Timestamp\n",
      "2017            Poor\n",
      "2018    Satisfactory\n",
      "2019    Satisfactory\n",
      "2020    Satisfactory\n",
      "2021    Satisfactory\n",
      "2022    Satisfactory\n",
      "Name: PM2.5, dtype: object\n"
     ]
    }
   ],
   "source": [
    "def categorize_aqi(aqi_value):\n",
    "    if 0 <= aqi_value <= 30:\n",
    "        return \"Good\"\n",
    "    elif 31 <= aqi_value <= 60:\n",
    "        return \"Satisfactory\"\n",
    "    elif 61 <= aqi_value <= 90:\n",
    "        return \"Moderate\"\n",
    "    elif 91 <= aqi_value <= 120:\n",
    "        return \"Poor\"\n",
    "    elif 121 <= aqi_value <= 250:\n",
    "        return \"Very Poor\"\n",
    "    elif aqi_value >= 251:\n",
    "        return \"Severe\"\n",
    "    else:\n",
    "        return \"Invalid\"\n",
    "\n",
    "# Calculate yearly AQI based on yearly average PM2.5 levels\n",
    "yearly_aqi = yearly_average_aqi.apply(categorize_aqi)\n",
    "\n",
    "# Display the yearly AQI\n",
    "print(yearly_aqi)"
   ]
  },
  {
   "cell_type": "code",
   "execution_count": 10,
   "metadata": {},
   "outputs": [
    {
     "name": "stdout",
     "output_type": "stream",
     "text": [
      "    Year  Month      PM2.5\n",
      "0   2017     11  97.713945\n",
      "1   2017     12  93.203757\n",
      "2   2018      1  94.057636\n",
      "3   2018      2  72.531757\n",
      "4   2018      3  64.846855\n",
      "5   2018      4  53.167152\n",
      "6   2018      5  42.868204\n",
      "7   2018      6  36.967149\n",
      "8   2018      7  25.196940\n",
      "9   2018      8  26.154884\n",
      "10  2018      9  30.316574\n",
      "11  2018     10  56.319222\n",
      "12  2018     11  76.421659\n",
      "13  2018     12  82.782523\n",
      "14  2019      1  84.319392\n",
      "15  2019      2  61.953638\n",
      "16  2019      3  50.699781\n",
      "17  2019      4  43.689677\n",
      "18  2019      5  42.393153\n",
      "19  2019      6  29.697092\n",
      "20  2019      7  22.994767\n",
      "21  2019      8  19.328752\n",
      "22  2019      9  21.500000\n",
      "23  2019     10  46.173852\n",
      "24  2019     11  68.885069\n",
      "25  2019     12  71.856802\n",
      "26  2020      1  64.713284\n",
      "27  2020      2  57.907011\n",
      "28  2020      3  37.829973\n",
      "29  2020      4  31.234513\n",
      "30  2020      5  28.061344\n",
      "31  2020      6  22.197667\n",
      "32  2020      7  19.569976\n",
      "33  2020      8  17.241909\n",
      "34  2020      9  25.370380\n",
      "35  2020     10  47.874019\n",
      "36  2020     11  67.531455\n",
      "37  2020     12  76.529394\n",
      "38  2021      1  74.177043\n",
      "39  2021      2  64.303021\n",
      "40  2021      3  54.611844\n",
      "41  2021      4  44.070196\n",
      "42  2021      5  29.273457\n",
      "43  2021      6  25.817284\n",
      "44  2021      7  21.072487\n",
      "45  2021      8  22.734086\n",
      "46  2021      9  19.855997\n",
      "47  2021     10  39.735241\n",
      "48  2021     11  66.994091\n",
      "49  2021     12  68.489738\n",
      "50  2022      1  60.122899\n",
      "51  2022      2  51.466511\n",
      "52  2022      3  53.019113\n",
      "53  2022      4  45.147594\n",
      "54  2022      5  40.568052\n",
      "55  2022      6  40.635227\n"
     ]
    }
   ],
   "source": [
    "# Convert the 'Timestamp' column to a datetime object\n",
    "df['Timestamp'] = pd.to_datetime(df['Timestamp'])\n",
    "\n",
    "# Calculate the monthly average PM2.5\n",
    "monthly_avg_pm25 = df.groupby(['Year', 'Month'])['PM2.5'].mean().reset_index()\n",
    "\n",
    "# Display the monthly average PM2.5\n",
    "print(monthly_avg_pm25)"
   ]
  },
  {
   "cell_type": "code",
   "execution_count": 12,
   "metadata": {},
   "outputs": [
    {
     "name": "stdout",
     "output_type": "stream",
     "text": [
      "0             Poor\n",
      "1             Poor\n",
      "2             Poor\n",
      "3         Moderate\n",
      "4         Moderate\n",
      "5     Satisfactory\n",
      "6     Satisfactory\n",
      "7     Satisfactory\n",
      "8             Good\n",
      "9             Good\n",
      "10         Invalid\n",
      "11    Satisfactory\n",
      "12        Moderate\n",
      "13        Moderate\n",
      "14        Moderate\n",
      "15        Moderate\n",
      "16    Satisfactory\n",
      "17    Satisfactory\n",
      "18    Satisfactory\n",
      "19            Good\n",
      "20            Good\n",
      "21            Good\n",
      "22            Good\n",
      "23    Satisfactory\n",
      "24        Moderate\n",
      "25        Moderate\n",
      "26        Moderate\n",
      "27    Satisfactory\n",
      "28    Satisfactory\n",
      "29    Satisfactory\n",
      "30            Good\n",
      "31            Good\n",
      "32            Good\n",
      "33            Good\n",
      "34            Good\n",
      "35    Satisfactory\n",
      "36        Moderate\n",
      "37        Moderate\n",
      "38        Moderate\n",
      "39        Moderate\n",
      "40    Satisfactory\n",
      "41    Satisfactory\n",
      "42            Good\n",
      "43            Good\n",
      "44            Good\n",
      "45            Good\n",
      "46            Good\n",
      "47    Satisfactory\n",
      "48        Moderate\n",
      "49        Moderate\n",
      "50         Invalid\n",
      "51    Satisfactory\n",
      "52    Satisfactory\n",
      "53    Satisfactory\n",
      "54    Satisfactory\n",
      "55    Satisfactory\n",
      "Name: PM2.5, dtype: object\n"
     ]
    }
   ],
   "source": [
    "# Calculate yearly AQI based on yearly average PM2.5 levels\n",
    "monthly_aqi = monthly_avg_pm25['PM2.5'].apply(categorize_aqi)\n",
    "\n",
    "# Display the yearly AQI\n",
    "print(monthly_aqi)"
   ]
  },
  {
   "cell_type": "code",
   "execution_count": null,
   "metadata": {},
   "outputs": [],
   "source": []
  }
 ],
 "metadata": {
  "kernelspec": {
   "display_name": "Python 3",
   "language": "python",
   "name": "python3"
  },
  "language_info": {
   "codemirror_mode": {
    "name": "ipython",
    "version": 3
   },
   "file_extension": ".py",
   "mimetype": "text/x-python",
   "name": "python",
   "nbconvert_exporter": "python",
   "pygments_lexer": "ipython3",
   "version": "3.10.7"
  },
  "orig_nbformat": 4
 },
 "nbformat": 4,
 "nbformat_minor": 2
}
